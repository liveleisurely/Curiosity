{
  "nbformat": 4,
  "nbformat_minor": 0,
  "metadata": {
    "colab": {
      "name": "Collatz conjecture.ipynb",
      "provenance": [],
      "authorship_tag": "ABX9TyMAbcvohHFezcKvV1ItNPzJ",
      "include_colab_link": true
    },
    "kernelspec": {
      "name": "python3",
      "display_name": "Python 3"
    },
    "language_info": {
      "name": "python"
    }
  },
  "cells": [
    {
      "cell_type": "markdown",
      "metadata": {
        "id": "view-in-github",
        "colab_type": "text"
      },
      "source": [
        "<a href=\"https://colab.research.google.com/github/liveleisurely/Curiosity/blob/main/Collatz_conjecture.ipynb\" target=\"_parent\"><img src=\"https://colab.research.google.com/assets/colab-badge.svg\" alt=\"Open In Colab\"/></a>"
      ]
    },
    {
      "cell_type": "code",
      "execution_count": 11,
      "metadata": {
        "colab": {
          "base_uri": "https://localhost:8080/"
        },
        "id": "875vYIMUutbx",
        "outputId": "c6fd1664-c159-4b25-ed77-a40e8b0a1e3f"
      },
      "outputs": [
        {
          "output_type": "stream",
          "name": "stdout",
          "text": [
            "91\n",
            "1 번째 시도: 274\n",
            "2 번째 시도: 137\n",
            "3 번째 시도: 412\n",
            "4 번째 시도: 206\n",
            "5 번째 시도: 103\n",
            "6 번째 시도: 310\n",
            "7 번째 시도: 155\n",
            "8 번째 시도: 466\n",
            "9 번째 시도: 233\n",
            "10 번째 시도: 700\n",
            "11 번째 시도: 350\n",
            "12 번째 시도: 175\n",
            "13 번째 시도: 526\n",
            "14 번째 시도: 263\n",
            "15 번째 시도: 790\n",
            "16 번째 시도: 395\n",
            "17 번째 시도: 1186\n",
            "18 번째 시도: 593\n",
            "19 번째 시도: 1780\n",
            "20 번째 시도: 890\n",
            "21 번째 시도: 445\n",
            "22 번째 시도: 1336\n",
            "23 번째 시도: 668\n",
            "24 번째 시도: 334\n",
            "25 번째 시도: 167\n",
            "26 번째 시도: 502\n",
            "27 번째 시도: 251\n",
            "28 번째 시도: 754\n",
            "29 번째 시도: 377\n",
            "30 번째 시도: 1132\n",
            "31 번째 시도: 566\n",
            "32 번째 시도: 283\n",
            "33 번째 시도: 850\n",
            "34 번째 시도: 425\n",
            "35 번째 시도: 1276\n",
            "36 번째 시도: 638\n",
            "37 번째 시도: 319\n",
            "38 번째 시도: 958\n",
            "39 번째 시도: 479\n",
            "40 번째 시도: 1438\n",
            "41 번째 시도: 719\n",
            "42 번째 시도: 2158\n",
            "43 번째 시도: 1079\n",
            "44 번째 시도: 3238\n",
            "45 번째 시도: 1619\n",
            "46 번째 시도: 4858\n",
            "47 번째 시도: 2429\n",
            "48 번째 시도: 7288\n",
            "49 번째 시도: 3644\n",
            "50 번째 시도: 1822\n",
            "51 번째 시도: 911\n",
            "52 번째 시도: 2734\n",
            "53 번째 시도: 1367\n",
            "54 번째 시도: 4102\n",
            "55 번째 시도: 2051\n",
            "56 번째 시도: 6154\n",
            "57 번째 시도: 3077\n",
            "58 번째 시도: 9232\n",
            "59 번째 시도: 4616\n",
            "60 번째 시도: 2308\n",
            "61 번째 시도: 1154\n",
            "62 번째 시도: 577\n",
            "63 번째 시도: 1732\n",
            "64 번째 시도: 866\n",
            "65 번째 시도: 433\n",
            "66 번째 시도: 1300\n",
            "67 번째 시도: 650\n",
            "68 번째 시도: 325\n",
            "69 번째 시도: 976\n",
            "70 번째 시도: 488\n",
            "71 번째 시도: 244\n",
            "72 번째 시도: 122\n",
            "73 번째 시도: 61\n",
            "74 번째 시도: 184\n",
            "75 번째 시도: 92\n",
            "76 번째 시도: 46\n",
            "77 번째 시도: 23\n",
            "78 번째 시도: 70\n",
            "79 번째 시도: 35\n",
            "80 번째 시도: 106\n",
            "81 번째 시도: 53\n",
            "82 번째 시도: 160\n",
            "83 번째 시도: 80\n",
            "84 번째 시도: 40\n",
            "85 번째 시도: 20\n",
            "86 번째 시도: 10\n",
            "87 번째 시도: 5\n",
            "88 번째 시도: 16\n",
            "89 번째 시도: 8\n",
            "90 번째 시도: 4\n",
            "91 번째 시도: 2\n",
            "92 번째 시도: 1\n",
            "최종 92번째 시도, 1 값\n"
          ]
        }
      ],
      "source": [
        "# 항상 마지막 수는 1?\n",
        "\n",
        "a = int(input())\n",
        "cnt = 0\n",
        "\n",
        "while True:\n",
        "    if a == 1:\n",
        "        print('최종 {}번째 시도, {} 값'.format(cnt,a))\n",
        "        break\n",
        "    elif a % 2 == 0:\n",
        "        a = a//2\n",
        "        cnt +=1 \n",
        "        print(cnt,'번째 시도:',a)\n",
        "    else:\n",
        "        a = 3*a+1\n",
        "        cnt +=1 \n",
        "        print(cnt,'번째 시도:',a)\n"
      ]
    },
    {
      "cell_type": "code",
      "source": [
        ""
      ],
      "metadata": {
        "id": "esSnGuYGvZ-F"
      },
      "execution_count": null,
      "outputs": []
    }
  ]
}