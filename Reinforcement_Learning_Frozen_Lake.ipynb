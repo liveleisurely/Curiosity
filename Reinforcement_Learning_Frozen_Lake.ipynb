{
  "nbformat": 4,
  "nbformat_minor": 0,
  "metadata": {
    "colab": {
      "name": "Reinforcement Learning-Frozen Lake.ipynb",
      "provenance": [],
      "authorship_tag": "ABX9TyOZ7vqDoZW3i0ti0BGlzpKQ",
      "include_colab_link": true
    },
    "kernelspec": {
      "name": "python3",
      "display_name": "Python 3"
    },
    "language_info": {
      "name": "python"
    }
  },
  "cells": [
    {
      "cell_type": "markdown",
      "metadata": {
        "id": "view-in-github",
        "colab_type": "text"
      },
      "source": [
        "<a href=\"https://colab.research.google.com/github/liveleisurely/Curiosity/blob/main/Reinforcement_Learning_Frozen_Lake.ipynb\" target=\"_parent\"><img src=\"https://colab.research.google.com/assets/colab-badge.svg\" alt=\"Open In Colab\"/></a>"
      ]
    },
    {
      "cell_type": "code",
      "metadata": {
        "id": "RukdZH_be-jR"
      },
      "source": [
        "import gym\n",
        "import numpy as np\n",
        "import pickle\n",
        "import time, os\n",
        "from tqdm import tqdm"
      ],
      "execution_count": null,
      "outputs": []
    },
    {
      "cell_type": "code",
      "metadata": {
        "colab": {
          "base_uri": "https://localhost:8080/"
        },
        "id": "AvgZm6gTkSO8",
        "outputId": "548d9456-1c71-4bb0-a33c-a046dbb57b39"
      },
      "source": [
        "env = gym.make('FrozenLake-v0', is_slippery=False)\n",
        "env.reset()\n",
        "env.render()"
      ],
      "execution_count": null,
      "outputs": [
        {
          "output_type": "stream",
          "text": [
            "\n",
            "\u001b[41mS\u001b[0mFFF\n",
            "FHFH\n",
            "FFFH\n",
            "HFFG\n"
          ],
          "name": "stdout"
        }
      ]
    },
    {
      "cell_type": "code",
      "metadata": {
        "id": "0m_vh5a_mJTJ"
      },
      "source": [
        ""
      ],
      "execution_count": null,
      "outputs": []
    },
    {
      "cell_type": "markdown",
      "metadata": {
        "id": "FoeUaB4Cl6RW"
      },
      "source": [
        "Agent's four possible actions: left(0), down(1) right(2) up(3)\n",
        "\n",
        "Reward : F=0, H=0, G=+1\n",
        "States: S, H, F, G\n",
        "\n",
        "\\>> 4x4 = 16 states & 4 actions"
      ]
    },
    {
      "cell_type": "code",
      "metadata": {
        "colab": {
          "base_uri": "https://localhost:8080/"
        },
        "id": "dPYsUIAakvjc",
        "outputId": "8bff9992-ba9a-41c8-935b-cc1702e7717d"
      },
      "source": [
        "16*4 # dimension of Q-value function."
      ],
      "execution_count": null,
      "outputs": [
        {
          "output_type": "execute_result",
          "data": {
            "text/plain": [
              "64"
            ]
          },
          "metadata": {
            "tags": []
          },
          "execution_count": 8
        }
      ]
    },
    {
      "cell_type": "code",
      "metadata": {
        "id": "sQkAp8WhlQD5"
      },
      "source": [
        "total_episodes = 100000 ## number of episodes\n",
        "\n",
        "lr_rate = 1 # the learning rate\n",
        "gamma = 0.99 # the discount factor\n",
        "\n",
        "## Q-table 16x4 matrix with zeros\n",
        "Q = np.zeros((env.observation_space.n, env.action_space.n))"
      ],
      "execution_count": null,
      "outputs": []
    },
    {
      "cell_type": "code",
      "metadata": {
        "colab": {
          "base_uri": "https://localhost:8080/"
        },
        "id": "7CG3aUmZlt0k",
        "outputId": "e7fdda7c-8060-4b72-ff87-8041fbef37cf"
      },
      "source": [
        "Q"
      ],
      "execution_count": null,
      "outputs": [
        {
          "output_type": "execute_result",
          "data": {
            "text/plain": [
              "array([[0., 0., 0., 0.],\n",
              "       [0., 0., 0., 0.],\n",
              "       [0., 0., 0., 0.],\n",
              "       [0., 0., 0., 0.],\n",
              "       [0., 0., 0., 0.],\n",
              "       [0., 0., 0., 0.],\n",
              "       [0., 0., 0., 0.],\n",
              "       [0., 0., 0., 0.],\n",
              "       [0., 0., 0., 0.],\n",
              "       [0., 0., 0., 0.],\n",
              "       [0., 0., 0., 0.],\n",
              "       [0., 0., 0., 0.],\n",
              "       [0., 0., 0., 0.],\n",
              "       [0., 0., 0., 0.],\n",
              "       [0., 0., 0., 0.],\n",
              "       [0., 0., 0., 0.]])"
            ]
          },
          "metadata": {
            "tags": []
          },
          "execution_count": 54
        }
      ]
    },
    {
      "cell_type": "code",
      "metadata": {
        "colab": {
          "base_uri": "https://localhost:8080/"
        },
        "id": "OUFzDJBWncRm",
        "outputId": "2a483ffc-68ec-4208-849f-34b1a07a2d77"
      },
      "source": [
        "env.reset()\n",
        "env.render()"
      ],
      "execution_count": null,
      "outputs": [
        {
          "output_type": "stream",
          "text": [
            "\n",
            "\u001b[41mS\u001b[0mFFF\n",
            "FHFH\n",
            "FFFH\n",
            "HFFG\n"
          ],
          "name": "stdout"
        }
      ]
    },
    {
      "cell_type": "code",
      "metadata": {
        "colab": {
          "base_uri": "https://localhost:8080/"
        },
        "id": "BOHYjfVEnFmd",
        "outputId": "0c10d0ab-1b0f-4ace-ed0e-d359092640fe"
      },
      "source": [
        "env.action_space.sample() # produce random action (0,1,2,3)"
      ],
      "execution_count": null,
      "outputs": [
        {
          "output_type": "execute_result",
          "data": {
            "text/plain": [
              "1"
            ]
          },
          "metadata": {
            "tags": []
          },
          "execution_count": 38
        }
      ]
    },
    {
      "cell_type": "code",
      "metadata": {
        "colab": {
          "base_uri": "https://localhost:8080/"
        },
        "id": "k9302Fc0nZ_H",
        "outputId": "2ae44110-ef5d-4e25-f21b-7f371812d69e"
      },
      "source": [
        "env.step(2) # (index of the sell, reward, )"
      ],
      "execution_count": null,
      "outputs": [
        {
          "output_type": "execute_result",
          "data": {
            "text/plain": [
              "(1, 0.0, False, {'prob': 1.0})"
            ]
          },
          "metadata": {
            "tags": []
          },
          "execution_count": 39
        }
      ]
    },
    {
      "cell_type": "code",
      "metadata": {
        "colab": {
          "base_uri": "https://localhost:8080/"
        },
        "id": "eDb6Nm_2nv4O",
        "outputId": "197d34d8-4a71-4eec-9c8e-9926a08cbbb8"
      },
      "source": [
        "env.render()"
      ],
      "execution_count": null,
      "outputs": [
        {
          "output_type": "stream",
          "text": [
            "  (Right)\n",
            "S\u001b[41mF\u001b[0mFF\n",
            "FHFH\n",
            "FFFH\n",
            "HFFG\n"
          ],
          "name": "stdout"
        }
      ]
    },
    {
      "cell_type": "code",
      "metadata": {
        "colab": {
          "base_uri": "https://localhost:8080/"
        },
        "id": "YX0VsWCQn0BY",
        "outputId": "5c78a7cb-90ef-4145-f378-e7da82da5088"
      },
      "source": [
        "env.step(1)"
      ],
      "execution_count": null,
      "outputs": [
        {
          "output_type": "execute_result",
          "data": {
            "text/plain": [
              "(4, 0.0, False, {'prob': 1.0})"
            ]
          },
          "metadata": {
            "tags": []
          },
          "execution_count": 59
        }
      ]
    },
    {
      "cell_type": "code",
      "metadata": {
        "colab": {
          "base_uri": "https://localhost:8080/"
        },
        "id": "BxdkJxVTn4XH",
        "outputId": "715056f4-e6e1-4958-e112-309ab2c8e239"
      },
      "source": [
        "env.render()"
      ],
      "execution_count": null,
      "outputs": [
        {
          "output_type": "stream",
          "text": [
            "  (Down)\n",
            "SFFF\n",
            "\u001b[41mF\u001b[0mHFH\n",
            "FFFH\n",
            "HFFG\n"
          ],
          "name": "stdout"
        }
      ]
    },
    {
      "cell_type": "code",
      "metadata": {
        "colab": {
          "base_uri": "https://localhost:8080/"
        },
        "id": "zIDymGLNn7CE",
        "outputId": "5d0bb8af-0a91-46e1-b507-fd04be286e92"
      },
      "source": [
        "env.step(1)"
      ],
      "execution_count": null,
      "outputs": [
        {
          "output_type": "execute_result",
          "data": {
            "text/plain": [
              "(8, 0.0, False, {'prob': 1.0})"
            ]
          },
          "metadata": {
            "tags": []
          },
          "execution_count": 61
        }
      ]
    },
    {
      "cell_type": "code",
      "metadata": {
        "colab": {
          "base_uri": "https://localhost:8080/"
        },
        "id": "pIbJVf57n-Ic",
        "outputId": "86132796-8342-4516-bf55-3f9130905265"
      },
      "source": [
        "env.reset()\n",
        "env.render()"
      ],
      "execution_count": null,
      "outputs": [
        {
          "output_type": "stream",
          "text": [
            "\n",
            "\u001b[41mS\u001b[0mFFF\n",
            "FHFH\n",
            "FFFH\n",
            "HFFG\n"
          ],
          "name": "stdout"
        }
      ]
    },
    {
      "cell_type": "code",
      "metadata": {
        "colab": {
          "base_uri": "https://localhost:8080/"
        },
        "id": "_fxFBiA6oEFM",
        "outputId": "46fb732a-28eb-4e6f-a7c6-032eac8bb778"
      },
      "source": [
        "env.step(2) # move to right"
      ],
      "execution_count": null,
      "outputs": [
        {
          "output_type": "execute_result",
          "data": {
            "text/plain": [
              "(1, 0.0, False, {'prob': 1.0})"
            ]
          },
          "metadata": {
            "tags": []
          },
          "execution_count": 52
        }
      ]
    },
    {
      "cell_type": "code",
      "metadata": {
        "colab": {
          "base_uri": "https://localhost:8080/"
        },
        "id": "c11Eem2goHLq",
        "outputId": "527aeedc-a151-4d3a-9f0d-e78c95fa37d8"
      },
      "source": [
        "env.render() # real move"
      ],
      "execution_count": null,
      "outputs": [
        {
          "output_type": "stream",
          "text": [
            "  (Right)\n",
            "S\u001b[41mF\u001b[0mFF\n",
            "FHFH\n",
            "FFFH\n",
            "HFFG\n"
          ],
          "name": "stdout"
        }
      ]
    },
    {
      "cell_type": "code",
      "metadata": {
        "colab": {
          "base_uri": "https://localhost:8080/"
        },
        "id": "APXFKBJHoK_3",
        "outputId": "ea3788bf-501e-4d0e-b931-da9eb7f6efd0"
      },
      "source": [
        "env.step(2)"
      ],
      "execution_count": null,
      "outputs": [
        {
          "output_type": "execute_result",
          "data": {
            "text/plain": [
              "(5, 0, True, {'prob': 1.0})"
            ]
          },
          "metadata": {
            "tags": []
          },
          "execution_count": 49
        }
      ]
    },
    {
      "cell_type": "code",
      "metadata": {
        "colab": {
          "base_uri": "https://localhost:8080/"
        },
        "id": "SmKKNglepM5f",
        "outputId": "005247f1-530c-46ca-badf-34fad90a6c46"
      },
      "source": [
        "env.render()"
      ],
      "execution_count": null,
      "outputs": [
        {
          "output_type": "stream",
          "text": [
            "  (Right)\n",
            "SFFF\n",
            "F\u001b[41mH\u001b[0mFH\n",
            "FFFH\n",
            "HFFG\n"
          ],
          "name": "stdout"
        }
      ]
    },
    {
      "cell_type": "code",
      "metadata": {
        "colab": {
          "base_uri": "https://localhost:8080/"
        },
        "id": "hyIT4o5KpIix",
        "outputId": "afba7a68-0b98-4ba7-81d5-8a4e623fead6"
      },
      "source": [
        "env.step(2)"
      ],
      "execution_count": null,
      "outputs": [
        {
          "output_type": "execute_result",
          "data": {
            "text/plain": [
              "(5, 0, True, {'prob': 1.0})"
            ]
          },
          "metadata": {
            "tags": []
          },
          "execution_count": 35
        }
      ]
    },
    {
      "cell_type": "code",
      "metadata": {
        "colab": {
          "base_uri": "https://localhost:8080/"
        },
        "id": "TaVz98dDoOPK",
        "outputId": "590452d8-2c16-4bb1-d075-801ab828b554"
      },
      "source": [
        "env.render()"
      ],
      "execution_count": null,
      "outputs": [
        {
          "output_type": "stream",
          "text": [
            "  (Down)\n",
            "SFFF\n",
            "F\u001b[41mH\u001b[0mFH\n",
            "FFFH\n",
            "HFFG\n"
          ],
          "name": "stdout"
        }
      ]
    },
    {
      "cell_type": "code",
      "metadata": {
        "id": "N1Z2ZJivodS_"
      },
      "source": [
        "epsilon = 0.5 ## the epsilon-greedy approach : epsilon-hyperparameter\n",
        "def choose_action(state):\n",
        "    if np.random.uniform(0,1) < epsilon:\n",
        "        action = env.action_space.sample() # random actions\n",
        "    else:\n",
        "        action = np.argmax(Q[state, :])\n",
        "    return action\n",
        "\n",
        "## Using Q-Learning Algorithm, update Q-table\n",
        "def learn(state, state2, reward, action):\n",
        "    predict = Q[state, action]\n",
        "    target = reward + gamma * np.max(Q[state2, :])\n",
        "    Q[state, action] = Q[state, action] + lr_rate * (target - predict)"
      ],
      "execution_count": null,
      "outputs": []
    },
    {
      "cell_type": "code",
      "metadata": {
        "colab": {
          "base_uri": "https://localhost:8080/"
        },
        "id": "7V32p678l0CO",
        "outputId": "789ef255-10f3-4eb7-943a-75766d15acb3"
      },
      "source": [
        "for episode in tqdm(range(total_episodes)):\n",
        "    state = env.reset()\n",
        "    done = False\n",
        "    \n",
        "    while not done:\n",
        "        action = choose_action(state)\n",
        "        state2, reward, done, info = env.step(action) #  선택된 행동이 환경내에서 수행되고 다음 상태(state2)와 보상(reward) 반환, 에피소드가 끝났다면 done=True\n",
        "        learn(state, state2, reward, action) ## Q-Learning Algorithm\n",
        "        state = state2\n",
        "\n",
        "print(Q)\n",
        "\n",
        "with open(\"frozenLake_qTable.pkl\", 'wb') as f:\n",
        "    pickle.dump(Q, f)"
      ],
      "execution_count": null,
      "outputs": [
        {
          "output_type": "stream",
          "text": [
            "100%|██████████| 100000/100000 [00:25<00:00, 3928.74it/s]"
          ],
          "name": "stderr"
        },
        {
          "output_type": "stream",
          "text": [
            "[[0.94148015 0.95099005 0.95099005 0.94148015]\n",
            " [0.94148015 0.         0.96059601 0.95099005]\n",
            " [0.95099005 0.970299   0.95099005 0.96059601]\n",
            " [0.96059601 0.         0.95099005 0.95099005]\n",
            " [0.95099005 0.96059601 0.         0.94148015]\n",
            " [0.         0.         0.         0.        ]\n",
            " [0.         0.9801     0.         0.96059601]\n",
            " [0.         0.         0.         0.        ]\n",
            " [0.96059601 0.         0.970299   0.95099005]\n",
            " [0.96059601 0.9801     0.9801     0.        ]\n",
            " [0.970299   0.99       0.         0.970299  ]\n",
            " [0.         0.         0.         0.        ]\n",
            " [0.         0.         0.         0.        ]\n",
            " [0.         0.9801     0.99       0.970299  ]\n",
            " [0.9801     0.99       1.         0.9801    ]\n",
            " [0.         0.         0.         0.        ]]\n"
          ],
          "name": "stdout"
        },
        {
          "output_type": "stream",
          "text": [
            "\n"
          ],
          "name": "stderr"
        }
      ]
    },
    {
      "cell_type": "code",
      "metadata": {
        "colab": {
          "base_uri": "https://localhost:8080/"
        },
        "id": "tnoYTupfqnUo",
        "outputId": "6f8c6771-4df7-4f7d-b33f-cf97b7053b59"
      },
      "source": [
        "Q # L,D,R,U 첫번째에서는 D 혹은 R을 선택할 것임"
      ],
      "execution_count": null,
      "outputs": [
        {
          "output_type": "execute_result",
          "data": {
            "text/plain": [
              "array([[0.94148015, 0.95099005, 0.95099005, 0.94148015],\n",
              "       [0.94148015, 0.        , 0.96059601, 0.95099005],\n",
              "       [0.95099005, 0.970299  , 0.95099005, 0.96059601],\n",
              "       [0.96059601, 0.        , 0.95099005, 0.95099005],\n",
              "       [0.95099005, 0.96059601, 0.        , 0.94148015],\n",
              "       [0.        , 0.        , 0.        , 0.        ],\n",
              "       [0.        , 0.9801    , 0.        , 0.96059601],\n",
              "       [0.        , 0.        , 0.        , 0.        ],\n",
              "       [0.96059601, 0.        , 0.970299  , 0.95099005],\n",
              "       [0.96059601, 0.9801    , 0.9801    , 0.        ],\n",
              "       [0.970299  , 0.99      , 0.        , 0.970299  ],\n",
              "       [0.        , 0.        , 0.        , 0.        ],\n",
              "       [0.        , 0.        , 0.        , 0.        ],\n",
              "       [0.        , 0.9801    , 0.99      , 0.970299  ],\n",
              "       [0.9801    , 0.99      , 1.        , 0.9801    ],\n",
              "       [0.        , 0.        , 0.        , 0.        ]])"
            ]
          },
          "metadata": {
            "tags": []
          },
          "execution_count": 66
        }
      ]
    },
    {
      "cell_type": "code",
      "metadata": {
        "id": "eOVX5e78qzUr"
      },
      "source": [
        "after updating Q-value function, agents can play the game automatically based on Q-value"
      ],
      "execution_count": null,
      "outputs": []
    },
    {
      "cell_type": "code",
      "metadata": {
        "colab": {
          "base_uri": "https://localhost:8080/"
        },
        "id": "gZ85cNJ_qnxU",
        "outputId": "91bb7312-5c55-4483-c131-54191d58708e"
      },
      "source": [
        "import gym\n",
        "import numpy as np\n",
        "import pickle\n",
        "import time, os\n",
        "\n",
        "env = gym.make('FrozenLake-v0', is_slippery=False)\n",
        "\n",
        "with open(\"frozenLake_qTable.pkl\", 'rb') as f:\n",
        "    Q = pickle.load(f)\n",
        "\n",
        "def choose_action(state):\n",
        "    action = np.argmax(Q[state, :])\n",
        "    return action\n",
        "\n",
        "# start\n",
        "for episode in range(5):\n",
        "    state = env.reset()\n",
        "    print(\"*** Episode: \", episode)\n",
        "    t = 0\n",
        "    while t < 100:\n",
        "        env.render()\n",
        "        action = choose_action(state)\n",
        "        state2, reward, done, info = env.step(action)\n",
        "        state = state2\n",
        "        if done:\n",
        "            break\n",
        "        \n",
        "        time.sleep(0.5)\n",
        "        os.system('clear')"
      ],
      "execution_count": null,
      "outputs": [
        {
          "output_type": "stream",
          "text": [
            "*** Episode:  0\n",
            "\n",
            "\u001b[41mS\u001b[0mFFF\n",
            "FHFH\n",
            "FFFH\n",
            "HFFG\n",
            "  (Down)\n",
            "SFFF\n",
            "\u001b[41mF\u001b[0mHFH\n",
            "FFFH\n",
            "HFFG\n",
            "  (Down)\n",
            "SFFF\n",
            "FHFH\n",
            "\u001b[41mF\u001b[0mFFH\n",
            "HFFG\n",
            "  (Right)\n",
            "SFFF\n",
            "FHFH\n",
            "F\u001b[41mF\u001b[0mFH\n",
            "HFFG\n",
            "  (Down)\n",
            "SFFF\n",
            "FHFH\n",
            "FFFH\n",
            "H\u001b[41mF\u001b[0mFG\n",
            "  (Right)\n",
            "SFFF\n",
            "FHFH\n",
            "FFFH\n",
            "HF\u001b[41mF\u001b[0mG\n",
            "*** Episode:  1\n",
            "\n",
            "\u001b[41mS\u001b[0mFFF\n",
            "FHFH\n",
            "FFFH\n",
            "HFFG\n",
            "  (Down)\n",
            "SFFF\n",
            "\u001b[41mF\u001b[0mHFH\n",
            "FFFH\n",
            "HFFG\n",
            "  (Down)\n",
            "SFFF\n",
            "FHFH\n",
            "\u001b[41mF\u001b[0mFFH\n",
            "HFFG\n",
            "  (Right)\n",
            "SFFF\n",
            "FHFH\n",
            "F\u001b[41mF\u001b[0mFH\n",
            "HFFG\n",
            "  (Down)\n",
            "SFFF\n",
            "FHFH\n",
            "FFFH\n",
            "H\u001b[41mF\u001b[0mFG\n",
            "  (Right)\n",
            "SFFF\n",
            "FHFH\n",
            "FFFH\n",
            "HF\u001b[41mF\u001b[0mG\n",
            "*** Episode:  2\n",
            "\n",
            "\u001b[41mS\u001b[0mFFF\n",
            "FHFH\n",
            "FFFH\n",
            "HFFG\n",
            "  (Down)\n",
            "SFFF\n",
            "\u001b[41mF\u001b[0mHFH\n",
            "FFFH\n",
            "HFFG\n",
            "  (Down)\n",
            "SFFF\n",
            "FHFH\n",
            "\u001b[41mF\u001b[0mFFH\n",
            "HFFG\n",
            "  (Right)\n",
            "SFFF\n",
            "FHFH\n",
            "F\u001b[41mF\u001b[0mFH\n",
            "HFFG\n",
            "  (Down)\n",
            "SFFF\n",
            "FHFH\n",
            "FFFH\n",
            "H\u001b[41mF\u001b[0mFG\n",
            "  (Right)\n",
            "SFFF\n",
            "FHFH\n",
            "FFFH\n",
            "HF\u001b[41mF\u001b[0mG\n",
            "*** Episode:  3\n",
            "\n",
            "\u001b[41mS\u001b[0mFFF\n",
            "FHFH\n",
            "FFFH\n",
            "HFFG\n",
            "  (Down)\n",
            "SFFF\n",
            "\u001b[41mF\u001b[0mHFH\n",
            "FFFH\n",
            "HFFG\n",
            "  (Down)\n",
            "SFFF\n",
            "FHFH\n",
            "\u001b[41mF\u001b[0mFFH\n",
            "HFFG\n",
            "  (Right)\n",
            "SFFF\n",
            "FHFH\n",
            "F\u001b[41mF\u001b[0mFH\n",
            "HFFG\n",
            "  (Down)\n",
            "SFFF\n",
            "FHFH\n",
            "FFFH\n",
            "H\u001b[41mF\u001b[0mFG\n",
            "  (Right)\n",
            "SFFF\n",
            "FHFH\n",
            "FFFH\n",
            "HF\u001b[41mF\u001b[0mG\n",
            "*** Episode:  4\n",
            "\n",
            "\u001b[41mS\u001b[0mFFF\n",
            "FHFH\n",
            "FFFH\n",
            "HFFG\n",
            "  (Down)\n",
            "SFFF\n",
            "\u001b[41mF\u001b[0mHFH\n",
            "FFFH\n",
            "HFFG\n",
            "  (Down)\n",
            "SFFF\n",
            "FHFH\n",
            "\u001b[41mF\u001b[0mFFH\n",
            "HFFG\n",
            "  (Right)\n",
            "SFFF\n",
            "FHFH\n",
            "F\u001b[41mF\u001b[0mFH\n",
            "HFFG\n",
            "  (Down)\n",
            "SFFF\n",
            "FHFH\n",
            "FFFH\n",
            "H\u001b[41mF\u001b[0mFG\n",
            "  (Right)\n",
            "SFFF\n",
            "FHFH\n",
            "FFFH\n",
            "HF\u001b[41mF\u001b[0mG\n"
          ],
          "name": "stdout"
        }
      ]
    },
    {
      "cell_type": "code",
      "metadata": {
        "id": "YRYiv1fUrMc1"
      },
      "source": [
        ""
      ],
      "execution_count": null,
      "outputs": []
    }
  ]
}